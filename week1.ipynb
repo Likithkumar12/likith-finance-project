{
 "cells": [
  {
   "cell_type": "code",
   "execution_count": 1,
   "id": "3a667d43-8123-49db-88a4-6c6a35e4cc14",
   "metadata": {},
   "outputs": [
    {
     "name": "stdout",
     "output_type": "stream",
     "text": [
      "Step 1: Vector created using np.arange\n",
      "[ 0  1  2  3  4  5  6  7  8  9 10 11 12 13 14 15 16 17 18 19 20 21 22 23\n",
      " 24 25 26 27 28 29 30 31 32 33 34 35 36 37 38 39 40 41 42 43 44 45 46 47\n",
      " 48 49 50 51 52 53 54 55 56 57 58 59 60 61 62 63 64 65 66 67 68 69 70 71\n",
      " 72 73 74 75 76 77 78 79 80 81 82 83]\n",
      "\n",
      "Step 2: 2D array with 1 row\n",
      "[[ 0  1  2  3  4  5  6  7  8  9 10 11 12 13 14 15 16 17 18 19 20 21 22 23\n",
      "  24 25 26 27 28 29 30 31 32 33 34 35 36 37 38 39 40 41 42 43 44 45 46 47\n",
      "  48 49 50 51 52 53 54 55 56 57 58 59 60 61 62 63 64 65 66 67 68 69 70 71\n",
      "  72 73 74 75 76 77 78 79 80 81 82 83]]\n",
      "\n",
      "Step 3: Saved 2D array into another variable\n",
      "[[ 0  1  2  3  4  5  6  7  8  9 10 11 12 13 14 15 16 17 18 19 20 21 22 23\n",
      "  24 25 26 27 28 29 30 31 32 33 34 35 36 37 38 39 40 41 42 43 44 45 46 47\n",
      "  48 49 50 51 52 53 54 55 56 57 58 59 60 61 62 63 64 65 66 67 68 69 70 71\n",
      "  72 73 74 75 76 77 78 79 80 81 82 83]]\n",
      "\n",
      "Step 4: Shape attribute of the array\n",
      "Shape of array b: (1, 84)\n",
      "\n",
      "Lab Logbook Summary:\n",
      "Original vector (1D): [ 0  1  2  3  4  5  6  7  8  9 10 11 12 13 14 15 16 17 18 19 20 21 22 23\n",
      " 24 25 26 27 28 29 30 31 32 33 34 35 36 37 38 39 40 41 42 43 44 45 46 47\n",
      " 48 49 50 51 52 53 54 55 56 57 58 59 60 61 62 63 64 65 66 67 68 69 70 71\n",
      " 72 73 74 75 76 77 78 79 80 81 82 83]\n",
      "Converted to 2D array: [[ 0  1  2  3  4  5  6  7  8  9 10 11 12 13 14 15 16 17 18 19 20 21 22 23\n",
      "  24 25 26 27 28 29 30 31 32 33 34 35 36 37 38 39 40 41 42 43 44 45 46 47\n",
      "  48 49 50 51 52 53 54 55 56 57 58 59 60 61 62 63 64 65 66 67 68 69 70 71\n",
      "  72 73 74 75 76 77 78 79 80 81 82 83]]\n",
      "Shape of 2D array: (1, 84)\n"
     ]
    }
   ],
   "source": [
    "import numpy as np\n",
    "\n",
    "# Step 1: Determine the vector size based on SID\n",
    "SID = 2294984\n",
    "last_two_digits = SID % 100\n",
    "if last_two_digits < 10:\n",
    "    vector_size = last_two_digits + 100\n",
    "else:\n",
    "    vector_size = last_two_digits\n",
    "\n",
    "# Create a vector using np.arange\n",
    "a = np.arange(vector_size)\n",
    "print(\"Step 1: Vector created using np.arange\")\n",
    "print(a)\n",
    "\n",
    "# Step 2: Change the vector to a 2D array with 1 row\n",
    "a_2d = a.reshape(1, -1)  # Reshape to 1 row and as many columns as needed\n",
    "print(\"\\nStep 2: 2D array with 1 row\")\n",
    "print(a_2d)\n",
    "\n",
    "# Step 3: Save the new array into another variable\n",
    "b = a_2d.copy()\n",
    "print(\"\\nStep 3: Saved 2D array into another variable\")\n",
    "print(b)\n",
    "\n",
    "# Step 4: Check the shape attribute value\n",
    "print(\"\\nStep 4: Shape attribute of the array\")\n",
    "print(\"Shape of array b:\", b.shape)\n",
    "\n",
    "# Result for lab logbook\n",
    "print(\"\\nLab Logbook Summary:\")\n",
    "print(\"Original vector (1D):\", a)\n",
    "print(\"Converted to 2D array:\", a_2d)\n",
    "print(\"Shape of 2D array:\", b.shape)\n"
   ]
  },
  {
   "cell_type": "code",
   "execution_count": null,
   "id": "1306dcef-834f-4f26-bcc3-033dc92febfc",
   "metadata": {},
   "outputs": [],
   "source": []
  }
 ],
 "metadata": {
  "kernelspec": {
   "display_name": "Python 3 (ipykernel)",
   "language": "python",
   "name": "python3"
  },
  "language_info": {
   "codemirror_mode": {
    "name": "ipython",
    "version": 3
   },
   "file_extension": ".py",
   "mimetype": "text/x-python",
   "name": "python",
   "nbconvert_exporter": "python",
   "pygments_lexer": "ipython3",
   "version": "3.12.7"
  }
 },
 "nbformat": 4,
 "nbformat_minor": 5
}
